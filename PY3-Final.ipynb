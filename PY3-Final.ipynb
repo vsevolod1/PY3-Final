{
 "cells": [
  {
   "cell_type": "code",
   "execution_count": 1,
   "metadata": {
    "collapsed": true
   },
   "outputs": [],
   "source": [
    "from urllib.parse import urlencode, urlparse\n",
    "import requests\n",
    "import time\n",
    "from pprint import pprint"
   ]
  },
  {
   "cell_type": "code",
   "execution_count": 2,
   "metadata": {
    "collapsed": false
   },
   "outputs": [
    {
     "name": "stdout",
     "output_type": "stream",
     "text": [
      "https://oauth.vk.com/authorize?client_id=5948629%2B4096&display=mobile&response_type=token&scope=friends%2Cstatus%2Cvideo&v=5.64\n"
     ]
    }
   ],
   "source": [
    "AUTHORIZE_URL = 'https://oauth.vk.com/authorize'\n",
    "VERSION = '5.64'\n",
    "APP_ID = '5948629+4096'\n",
    "\n",
    "auth_data = {\n",
    "    'client_id': APP_ID,\n",
    "    'display': 'mobile',\n",
    "    'response_type': 'token',\n",
    "    'scope': 'friends,status,video',\n",
    "    'v': VERSION,}\n",
    "\n",
    "print('?'.join((AUTHORIZE_URL, urlencode(auth_data))))"
   ]
  },
  {
   "cell_type": "code",
   "execution_count": 3,
   "metadata": {
    "collapsed": false
   },
   "outputs": [
    {
     "name": "stdout",
     "output_type": "stream",
     "text": [
      "{'access_token': '7f1e02df87bfd92ed60d4f9bac123db34ad79a78e9db607f0e2f8c73a8de0f02208541bf96935243ae658', 'expires_in': '86400', 'user_id': '7203087'}\n"
     ]
    }
   ],
   "source": [
    "token_url = 'https://oauth.vk.com/blank.html#access_token=7f1e02df87bfd92ed60d4f9bac123db34ad79a78e9db607f0e2f8c73a8de0f02208541bf96935243ae658&expires_in=86400&user_id=7203087'\n",
    "\n",
    "o = urlparse(token_url)\n",
    "fragments = dict(i.split('=') for i in o.fragment.split('&'))\n",
    "access_token = fragments['access_token']\n",
    "\n",
    "TOKEN = 'd13e692be69592b09fd22c77a590dd34e186e6d696daa88d6d981e1b4e296b14acb377e82dcbc81dc0f22'\n",
    "\n",
    "print(fragments)\n",
    "\n",
    "params = {'access_token': TOKEN,\n",
    "          'v': VERSION, }"
   ]
  },
  {
   "cell_type": "code",
   "execution_count": 4,
   "metadata": {
    "collapsed": true
   },
   "outputs": [],
   "source": [
    "USER_ID = '5030613'"
   ]
  },
  {
   "cell_type": "markdown",
   "metadata": {},
   "source": [
    "Функция получения списка друзей"
   ]
  },
  {
   "cell_type": "code",
   "execution_count": 5,
   "metadata": {
    "collapsed": false
   },
   "outputs": [],
   "source": [
    "def get_user_friends(user_id = None):\n",
    "    params['user_id'] = user_id\n",
    "    response = requests.get('https://api.vk.com/method/friends.get', params)\n",
    "    return response.json()['response']['items']"
   ]
  },
  {
   "cell_type": "code",
   "execution_count": 6,
   "metadata": {
    "collapsed": false
   },
   "outputs": [],
   "source": [
    "user_list = get_user_friends(USER_ID)"
   ]
  },
  {
   "cell_type": "markdown",
   "metadata": {},
   "source": [
    "Функция получения групп друзей"
   ]
  },
  {
   "cell_type": "code",
   "execution_count": 7,
   "metadata": {
    "collapsed": false
   },
   "outputs": [],
   "source": [
    "def get_user_groups(user_id = None, extended = '0'):\n",
    "    params['user_id'] = user_id\n",
    "    params['extended'] = extended\n",
    "    response = requests.get('https://api.vk.com/method/groups.get', params)\n",
    "    return response.json()['response']['items']"
   ]
  },
  {
   "cell_type": "code",
   "execution_count": 8,
   "metadata": {
    "collapsed": false
   },
   "outputs": [],
   "source": [
    "user_groups = get_user_groups(USER_ID, '1')"
   ]
  },
  {
   "cell_type": "markdown",
   "metadata": {},
   "source": [
    "Функция проверки состоит ли пользователь в группе"
   ]
  },
  {
   "cell_type": "code",
   "execution_count": 9,
   "metadata": {
    "collapsed": true
   },
   "outputs": [],
   "source": [
    "def is_member(user_id, group_id):\n",
    "    params['user_id'] = user_id\n",
    "    params['group_id'] = group_id\n",
    "    response = requests.get('https://api.vk.com/method/groups.isMember', params)\n",
    "    return response.json()['response']['member']"
   ]
  },
  {
   "cell_type": "code",
   "execution_count": 10,
   "metadata": {
    "collapsed": false
   },
   "outputs": [
    {
     "data": {
      "text/plain": [
       "0"
      ]
     },
     "execution_count": 10,
     "metadata": {},
     "output_type": "execute_result"
    }
   ],
   "source": [
    "is_member(USER_ID, '63146755')"
   ]
  },
  {
   "cell_type": "code",
   "execution_count": 10,
   "metadata": {
    "collapsed": true
   },
   "outputs": [],
   "source": [
    "def is_member_group (user_list, group_id):\n",
    "#     str_list = [str(i) for i in user_list]\n",
    "#     params['user_ids'] = (',').join(str_list)\n",
    "    ul = [str(i) for i in user_list]\n",
    "#     pprint(ul)\n",
    "    str_list = (',').join(ul)\n",
    "    params['user_ids'] = str_list\n",
    "    params['group_id'] = group_id\n",
    "    response = requests.get('https://api.vk.com/method/groups.isMember', params)\n",
    "    return response.json()['response']"
   ]
  },
  {
   "cell_type": "code",
   "execution_count": 13,
   "metadata": {
    "collapsed": true
   },
   "outputs": [],
   "source": [
    "if len(user_list) > 350:\n",
    "    list_user_list = [user_list[i:i + 350] for i in range(0, len(user_list), 350)]"
   ]
  },
  {
   "cell_type": "code",
   "execution_count": 17,
   "metadata": {
    "collapsed": false,
    "scrolled": false
   },
   "outputs": [
    {
     "name": "stdout",
     "output_type": "stream",
     "text": [
      "sivard\n",
      "liquid sound\n",
      "Леворадикал\n",
      "Anton Maskeliade\n",
      "Газировка Dr Pepper в Нижнем Новгороде\n",
      "PUBLIC.MOV\n",
      "Тесак против Педофила \\ Оккупай-педофиляй 18+\n",
      "MW\n",
      "Цитаты из лучших сериалов\n",
      "Храбрейшие Воины | Bravest Warriors | BW Club\n",
      "TOP PEOPLE MORDOR\n",
      "Математика - это проще, чем кажется\n",
      ".perversiō\n",
      "Нарушители ( Старая группа )\n"
     ]
    }
   ],
   "source": [
    "for group in user_groups:\n",
    "    group['friends'] = 0\n",
    "    group_users_info = []\n",
    "    if list_user_list:\n",
    "        for lst in list_user_list:\n",
    "            group_users_info += is_member_group(lst, group['id'])\n",
    "    else:\n",
    "        group_users_info = is_member_group(user_list, group['id'])\n",
    "    for group_user in group_users_info:\n",
    "        group['friends'] += group_user['member']\n",
    "    if group['friends'] == 0:\n",
    "        print(group['name'])\n",
    "    time.sleep(1)"
   ]
  }
 ],
 "metadata": {
  "kernelspec": {
   "display_name": "Python 3",
   "language": "python",
   "name": "python3"
  },
  "language_info": {
   "codemirror_mode": {
    "name": "ipython",
    "version": 3
   },
   "file_extension": ".py",
   "mimetype": "text/x-python",
   "name": "python",
   "nbconvert_exporter": "python",
   "pygments_lexer": "ipython3",
   "version": "3.6.0"
  }
 },
 "nbformat": 4,
 "nbformat_minor": 2
}
