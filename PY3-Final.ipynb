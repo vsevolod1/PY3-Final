{
 "cells": [
  {
   "cell_type": "code",
   "execution_count": 1,
   "metadata": {
    "collapsed": true
   },
   "outputs": [],
   "source": [
    "from urllib.parse import urlencode, urlparse\n",
    "import requests\n",
    "import time\n",
    "import json\n",
    "from pprint import pprint"
   ]
  },
  {
   "cell_type": "code",
   "execution_count": 2,
   "metadata": {
    "collapsed": false
   },
   "outputs": [],
   "source": [
    "VERSION = '5.64'\n",
    "TOKEN = 'd13e692be69592b09fd22c77a590dd34e186e6d696daa88d6d981e1b4e296b14acb377e82dcbc81dc0f22'\n",
    "\n",
    "params = {'access_token': TOKEN,\n",
    "          'v': VERSION, }"
   ]
  },
  {
   "cell_type": "code",
   "execution_count": 3,
   "metadata": {
    "collapsed": true
   },
   "outputs": [],
   "source": [
    "USER_ID = '5030613'"
   ]
  },
  {
   "cell_type": "markdown",
   "metadata": {},
   "source": [
    "Функция получения списка друзей"
   ]
  },
  {
   "cell_type": "code",
   "execution_count": 4,
   "metadata": {
    "collapsed": false
   },
   "outputs": [],
   "source": [
    "def get_user_friends(user_id = None):\n",
    "    params['user_id'] = user_id\n",
    "    response = requests.get('https://api.vk.com/method/friends.get', params)\n",
    "    return response.json()['response']['items']"
   ]
  },
  {
   "cell_type": "code",
   "execution_count": 5,
   "metadata": {
    "collapsed": false
   },
   "outputs": [],
   "source": [
    "user_list = get_user_friends(USER_ID)"
   ]
  },
  {
   "cell_type": "markdown",
   "metadata": {},
   "source": [
    "Функция получения групп друзей"
   ]
  },
  {
   "cell_type": "code",
   "execution_count": 6,
   "metadata": {
    "collapsed": false
   },
   "outputs": [],
   "source": [
    "def get_user_groups(user_id = None, extended = '0'):\n",
    "    params['user_id'] = user_id\n",
    "    params['extended'] = extended\n",
    "    response = requests.get('https://api.vk.com/method/groups.get', params)\n",
    "    return response.json()['response']['items']"
   ]
  },
  {
   "cell_type": "code",
   "execution_count": 7,
   "metadata": {
    "collapsed": false
   },
   "outputs": [],
   "source": [
    "user_groups = get_user_groups(USER_ID, '1')"
   ]
  },
  {
   "cell_type": "markdown",
   "metadata": {},
   "source": [
    "Функция проверки состоит ли пользователь в группе"
   ]
  },
  {
   "cell_type": "code",
   "execution_count": 8,
   "metadata": {
    "collapsed": true
   },
   "outputs": [],
   "source": [
    "def is_member(user_id, group_id):\n",
    "    params['user_id'] = user_id\n",
    "    params['group_id'] = group_id\n",
    "    response = requests.get('https://api.vk.com/method/groups.isMember', params)\n",
    "    return response.json()['response']['member']"
   ]
  },
  {
   "cell_type": "code",
   "execution_count": 9,
   "metadata": {
    "collapsed": true
   },
   "outputs": [],
   "source": [
    "def is_member_group (user_list, group_id):\n",
    "#     str_list = [str(i) for i in user_list]\n",
    "#     params['user_ids'] = (',').join(str_list)\n",
    "    ul = [str(i) for i in user_list]\n",
    "#     pprint(ul)\n",
    "    str_list = (',').join(ul)\n",
    "    params['user_ids'] = str_list\n",
    "    params['group_id'] = group_id\n",
    "    response = requests.get('https://api.vk.com/method/groups.isMember', params)\n",
    "    return response.json()['response']"
   ]
  },
  {
   "cell_type": "code",
   "execution_count": 10,
   "metadata": {
    "collapsed": true
   },
   "outputs": [],
   "source": [
    "if len(user_list) > 350:\n",
    "    list_user_list = [user_list[i:i + 350] for i in range(0, len(user_list), 350)]"
   ]
  },
  {
   "cell_type": "code",
   "execution_count": 11,
   "metadata": {
    "collapsed": false,
    "scrolled": true
   },
   "outputs": [
    {
     "name": "stdout",
     "output_type": "stream",
     "text": [
      "sivard\n",
      "liquid sound\n",
      "Леворадикал\n",
      "Anton Maskeliade\n",
      "Газировка Dr Pepper в Нижнем Новгороде\n",
      "PUBLIC.MOV\n",
      "Тесак против Педофила \\ Оккупай-педофиляй 18+\n",
      "MW\n",
      "Цитаты из лучших сериалов\n",
      "Храбрейшие Воины | Bravest Warriors | BW Club\n",
      "TOP PEOPLE MORDOR\n",
      "Математика - это проще, чем кажется\n",
      ".perversiō\n",
      "Нарушители ( Старая группа )\n"
     ]
    }
   ],
   "source": [
    "for group in user_groups:\n",
    "    group['friends'] = 0\n",
    "    group_users_info = []\n",
    "    if list_user_list:\n",
    "        for lst in list_user_list:\n",
    "            group_users_info += is_member_group(lst, group['id'])\n",
    "    else:\n",
    "        group_users_info = is_member_group(user_list, group['id'])\n",
    "    for group_user in group_users_info:\n",
    "        group['friends'] += group_user['member']\n",
    "    if group['friends'] == 0:\n",
    "        print(group['name'])\n",
    "    time.sleep(1)"
   ]
  },
  {
   "cell_type": "code",
   "execution_count": null,
   "metadata": {
    "collapsed": false
   },
   "outputs": [],
   "source": [
    "with open('groups.json', 'w', encoding='utf8') as outfile:\n",
    "    json.dump(user_groups, outfile, ensure_ascii=False)"
   ]
  }
 ],
 "metadata": {
  "kernelspec": {
   "display_name": "Python 3",
   "language": "python",
   "name": "python3"
  },
  "language_info": {
   "codemirror_mode": {
    "name": "ipython",
    "version": 3
   },
   "file_extension": ".py",
   "mimetype": "text/x-python",
   "name": "python",
   "nbconvert_exporter": "python",
   "pygments_lexer": "ipython3",
   "version": "3.6.0"
  }
 },
 "nbformat": 4,
 "nbformat_minor": 2
}
